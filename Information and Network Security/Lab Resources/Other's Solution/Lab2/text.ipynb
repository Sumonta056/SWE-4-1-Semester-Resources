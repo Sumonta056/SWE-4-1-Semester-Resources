{
 "cells": [
  {
   "cell_type": "code",
   "execution_count": 1,
   "metadata": {},
   "outputs": [
    {
     "name": "stdout",
     "output_type": "stream",
     "text": [
      "Key: {'A': '`', 'B': 'P', 'C': 'z', 'D': 'p', 'E': 'u', 'F': '.', 'G': '&', 'H': 'W', 'I': '!', 'J': 'G', 'K': 'q', 'L': 'Q', 'M': '$', 'N': 'c', 'O': '{', 'P': 'x', 'Q': '@', 'R': 'R', 'S': 'n', 'T': 't', 'U': '>', 'V': '#', 'W': 'Y', 'X': 'v', 'Y': 'O', 'Z': 'B', 'a': 'f', 'b': 'I', 'c': 's', 'd': 'L', 'e': '~', 'f': 'b', 'g': ',', 'h': '=', 'i': 'X', 'j': 'T', 'k': '1', 'l': 'm', 'm': '3', 'n': 'N', 'o': 'K', 'p': '9', 'q': 'k', 'r': '\\\\', 's': 'i', 't': 'H', 'u': '2', 'v': '%', 'w': '4', 'x': '<', 'y': 'M', 'z': ']', '0': 'y', '1': 'S', '2': '7', '3': '^', '4': 'g', '5': '/', '6': '+', '7': 'e', '8': '_', '9': '\"', ':': 'a', '.': ' ', ';': 'J', ',': 'l', '?': '-', '!': 'o', '@': 'U', '#': ')', '$': 'E', '%': '8', '&': '}', '(': '5', ')': ':', '+': 'Z', '=': '[', '-': 'V', '*': \"'\", '/': 'F', '_': 'D', '<': 'h', '>': '(', ' ': '6', '[': 'j', ']': '?', '{': 'r', '}': ';', '`': 'C', '~': '*', '^': 'w', '\"': 'A', \"'\": '0', '\\\\': 'd'}\n",
      "Plaintext: Hello World. This is demo of substitution cipher\n",
      "Encrypted: W~mmK6YK\\mL 6t=Xi6Xi6L~3K6Kb6i2IiHXH2HXKN6sX9=~\\\n",
      "Decrypted: Hello World. This is demo of substitution cipher\n"
     ]
    }
   ],
   "source": [
    "import random\n",
    "chars = 'ABCDEFGHIJKLMNOPQRSTUVWXYZ' + \\\n",
    "   'abcdefghijklmnopqrstuvwxyz' + \\\n",
    "   '0123456789' + \\\n",
    "   ':.;,?!@#$%&()+=-*/_<> []{}`~^\"\\'\\\\'\n",
    "\n",
    "def generate_key():\n",
    "   \"\"\"Generate an key for our cipher\"\"\"\n",
    "   shuffled = sorted(chars, key=lambda k: random.random())\n",
    "   return dict(zip(chars, shuffled))\n",
    "\n",
    "def encrypt(key, plaintext):\n",
    "   \"\"\"Encrypt the string and return the ciphertext\"\"\"\n",
    "   return ''.join(key[l] for l in plaintext)\n",
    "\n",
    "def decrypt(key, ciphertext):\n",
    "   \"\"\"Decrypt the string and return the plaintext\"\"\"\n",
    "   flipped = {v: k for k, v in key.items()}\n",
    "   return ''.join(flipped[l] for l in ciphertext)\n",
    "\n",
    "def show_result(plaintext):\n",
    "   \"\"\"Generate a resulting cipher with elements shown\"\"\"\n",
    "   key = generate_key()\n",
    "   encrypted = encrypt(key, plaintext)\n",
    "   decrypted = decrypt(key, encrypted)\n",
    "   \n",
    "   print('Key: %s' % key)\n",
    "   print('Plaintext: %s' % plaintext)\n",
    "   print('Encrypted: %s' % encrypted)\n",
    "   print('Decrypted: %s' % decrypted)\n",
    "\n",
    "show_result('Hello World. This is demo of substitution cipher')"
   ]
  },
  {
   "cell_type": "code",
   "execution_count": 4,
   "metadata": {},
   "outputs": [
    {
     "ename": "KeyError",
     "evalue": "','",
     "output_type": "error",
     "traceback": [
      "\u001b[1;31m---------------------------------------------------------------------------\u001b[0m",
      "\u001b[1;31mKeyError\u001b[0m                                  Traceback (most recent call last)",
      "Cell \u001b[1;32mIn[4], line 53\u001b[0m\n\u001b[0;32m     50\u001b[0m     \u001b[38;5;28;01mreturn\u001b[39;00m best_key\n\u001b[0;32m     52\u001b[0m ciphertext \u001b[38;5;241m=\u001b[39m \u001b[38;5;124m'\u001b[39m\u001b[38;5;124maf p xpkcaqvnpk pfg, af ipqe qpri, gauuikifc tpw, ceiri udvk tiki afgarxifrphni cd eao-wvmd popkwn, hiqpvri du ear jvaql vfgikrcpfgafm du cei xkafqaxnir du xrwqedearcdkw pfg du ear aopmafpcasi xkdhafmr afcd fit pkipr. ac tpr qdoudkcafm cd lfdt cepc au pfwceafm epxxifig cd ringdf eaorinu hiudki cei opceiopcaqr du cei uaing qdvng hi qdoxnicinw tdklig dvc-pfg edt rndtnw ac xkdqiigig, pfg edt odvfcpafdvr cei dhrcpqnir--ceiki tdvng pc niprc kiopaf dfi mddg oafg cepc tdvng qdfcafvi cei kiripkq\u001b[39m\u001b[38;5;124m'\u001b[39m\n\u001b[1;32m---> 53\u001b[0m key \u001b[38;5;241m=\u001b[39m \u001b[43mgenetic_algorithm\u001b[49m\u001b[43m(\u001b[49m\u001b[43mciphertext\u001b[49m\u001b[43m,\u001b[49m\u001b[43m \u001b[49m\u001b[43miterations\u001b[49m\u001b[38;5;241;43m=\u001b[39;49m\u001b[38;5;241;43m1000\u001b[39;49m\u001b[43m,\u001b[49m\u001b[43m \u001b[49m\u001b[43mruns\u001b[49m\u001b[38;5;241;43m=\u001b[39;49m\u001b[38;5;241;43m10\u001b[39;49m\u001b[43m)\u001b[49m\n\u001b[0;32m     54\u001b[0m plaintext \u001b[38;5;241m=\u001b[39m decode(ciphertext, key)\n\u001b[0;32m     55\u001b[0m \u001b[38;5;28mprint\u001b[39m(plaintext)\n",
      "Cell \u001b[1;32mIn[4], line 37\u001b[0m, in \u001b[0;36mgenetic_algorithm\u001b[1;34m(ciphertext, iterations, runs)\u001b[0m\n\u001b[0;32m     35\u001b[0m \u001b[38;5;250m\u001b[39m\u001b[38;5;124;03m\"\"\"Use a genetic algorithm to decode a substitution cipher\"\"\"\u001b[39;00m\n\u001b[0;32m     36\u001b[0m best_key \u001b[38;5;241m=\u001b[39m string\u001b[38;5;241m.\u001b[39mascii_lowercase\n\u001b[1;32m---> 37\u001b[0m best_fitness \u001b[38;5;241m=\u001b[39m \u001b[43mfitness\u001b[49m\u001b[43m(\u001b[49m\u001b[43mdecode\u001b[49m\u001b[43m(\u001b[49m\u001b[43mciphertext\u001b[49m\u001b[43m,\u001b[49m\u001b[43m \u001b[49m\u001b[43mbest_key\u001b[49m\u001b[43m)\u001b[49m\u001b[43m)\u001b[49m\n\u001b[0;32m     39\u001b[0m \u001b[38;5;28;01mfor\u001b[39;00m _ \u001b[38;5;129;01min\u001b[39;00m \u001b[38;5;28mrange\u001b[39m(runs):\n\u001b[0;32m     40\u001b[0m     key \u001b[38;5;241m=\u001b[39m string\u001b[38;5;241m.\u001b[39mascii_lowercase\n",
      "Cell \u001b[1;32mIn[4], line 20\u001b[0m, in \u001b[0;36mfitness\u001b[1;34m(text)\u001b[0m\n\u001b[0;32m     18\u001b[0m c \u001b[38;5;241m=\u001b[39m Counter(text\u001b[38;5;241m.\u001b[39mlower())\n\u001b[0;32m     19\u001b[0m total \u001b[38;5;241m=\u001b[39m \u001b[38;5;28msum\u001b[39m(c\u001b[38;5;241m.\u001b[39mvalues())\n\u001b[1;32m---> 20\u001b[0m \u001b[38;5;28;01mreturn\u001b[39;00m \u001b[38;5;28;43msum\u001b[39;49m\u001b[43m(\u001b[49m\u001b[43mfreqs\u001b[49m\u001b[43m[\u001b[49m\u001b[43mchar\u001b[49m\u001b[43m]\u001b[49m\u001b[43m \u001b[49m\u001b[38;5;241;43m*\u001b[39;49m\u001b[43m \u001b[49m\u001b[43mcount\u001b[49m\u001b[43m \u001b[49m\u001b[38;5;241;43m/\u001b[39;49m\u001b[43m \u001b[49m\u001b[43mtotal\u001b[49m\u001b[43m \u001b[49m\u001b[38;5;28;43;01mfor\u001b[39;49;00m\u001b[43m \u001b[49m\u001b[43mchar\u001b[49m\u001b[43m,\u001b[49m\u001b[43m \u001b[49m\u001b[43mcount\u001b[49m\u001b[43m \u001b[49m\u001b[38;5;129;43;01min\u001b[39;49;00m\u001b[43m \u001b[49m\u001b[43mc\u001b[49m\u001b[38;5;241;43m.\u001b[39;49m\u001b[43mitems\u001b[49m\u001b[43m(\u001b[49m\u001b[43m)\u001b[49m\u001b[43m)\u001b[49m\n",
      "Cell \u001b[1;32mIn[4], line 20\u001b[0m, in \u001b[0;36m<genexpr>\u001b[1;34m(.0)\u001b[0m\n\u001b[0;32m     18\u001b[0m c \u001b[38;5;241m=\u001b[39m Counter(text\u001b[38;5;241m.\u001b[39mlower())\n\u001b[0;32m     19\u001b[0m total \u001b[38;5;241m=\u001b[39m \u001b[38;5;28msum\u001b[39m(c\u001b[38;5;241m.\u001b[39mvalues())\n\u001b[1;32m---> 20\u001b[0m \u001b[38;5;28;01mreturn\u001b[39;00m \u001b[38;5;28msum\u001b[39m(\u001b[43mfreqs\u001b[49m\u001b[43m[\u001b[49m\u001b[43mchar\u001b[49m\u001b[43m]\u001b[49m \u001b[38;5;241m*\u001b[39m count \u001b[38;5;241m/\u001b[39m total \u001b[38;5;28;01mfor\u001b[39;00m char, count \u001b[38;5;129;01min\u001b[39;00m c\u001b[38;5;241m.\u001b[39mitems())\n",
      "\u001b[1;31mKeyError\u001b[0m: ','"
     ]
    }
   ],
   "source": [
    "import random\n",
    "import string\n",
    "from collections import Counter\n",
    "\n",
    "# English letter frequencies\n",
    "freqs = {\n",
    "    'a': .08167, 'b': .01492, 'c': .02782, 'd': .04253,\n",
    "    'e': .12702, 'f': .02228, 'g': .02015, 'h': .06094,\n",
    "    'i': .06966, 'j': .00153, 'k': .00772, 'l': .04025,\n",
    "    'm': .02406, 'n': .06749, 'o': .07507, 'p': .01929,\n",
    "    'q': .00095, 'r': .05987, 's': .06327, 't': .09056,\n",
    "    'u': .02758, 'v': .00978, 'w': .02360, 'x': .00150,\n",
    "    'y': .01974, 'z': .00074, ' ': .13000\n",
    "}\n",
    "\n",
    "def fitness(text):\n",
    "    \"\"\"Calculate the fitness of a text based on English letter frequencies\"\"\"\n",
    "    c = Counter(text.lower())\n",
    "    total = sum(c.values())\n",
    "    return sum(freqs[char] * count / total for char, count in c.items())\n",
    "\n",
    "def decode(ciphertext, key):\n",
    "    \"\"\"Decode a ciphertext using a substitution key\"\"\"\n",
    "    table = str.maketrans(string.ascii_lowercase, key)\n",
    "    return ciphertext.translate(table)\n",
    "\n",
    "def evolve_key(key):\n",
    "    \"\"\"Evolve a key by swapping two characters\"\"\"\n",
    "    key = list(key)\n",
    "    i, j = random.sample(range(len(key)), 2)\n",
    "    key[i], key[j] = key[j], key[i]\n",
    "    return ''.join(key)\n",
    "\n",
    "def genetic_algorithm(ciphertext, iterations=1000, runs=10):\n",
    "    \"\"\"Use a genetic algorithm to decode a substitution cipher\"\"\"\n",
    "    best_key = string.ascii_lowercase\n",
    "    best_fitness = fitness(decode(ciphertext, best_key))\n",
    "    \n",
    "    for _ in range(runs):\n",
    "        key = string.ascii_lowercase\n",
    "        for _ in range(iterations):\n",
    "            new_key = evolve_key(key)\n",
    "            new_fitness = fitness(decode(ciphertext, new_key))\n",
    "            if new_fitness > fitness(decode(ciphertext, key)):\n",
    "                key = new_key\n",
    "        if fitness(decode(ciphertext, key)) > best_fitness:\n",
    "            best_key = key\n",
    "            best_fitness = fitness(decode(ciphertext, best_key))\n",
    "    \n",
    "    return best_key\n",
    "\n",
    "ciphertext = 'af p xpkcaqvnpk pfg, af ipqe qpri, gauuikifc tpw, ceiri udvk tiki afgarxifrphni cd eao-wvmd popkwn, hiqpvri du ear jvaql vfgikrcpfgafm du cei xkafqaxnir du xrwqedearcdkw pfg du ear aopmafpcasi xkdhafmr afcd fit pkipr. ac tpr qdoudkcafm cd lfdt cepc au pfwceafm epxxifig cd ringdf eaorinu hiudki cei opceiopcaqr du cei uaing qdvng hi qdoxnicinw tdklig dvc-pfg edt rndtnw ac xkdqiigig, pfg edt odvfcpafdvr cei dhrcpqnir--ceiki tdvng pc niprc kiopaf dfi mddg oafg cepc tdvng qdfcafvi cei kiripkq'\n",
    "key = genetic_algorithm(ciphertext, iterations=1000, runs=10)\n",
    "plaintext = decode(ciphertext, key)\n",
    "print(plaintext)"
   ]
  },
  {
   "cell_type": "code",
   "execution_count": 1,
   "metadata": {},
   "outputs": [
    {
     "name": "stdout",
     "output_type": "stream",
     "text": [
      "Deciphered Cipher-1:\n",
      "oo a madaolulad aod, oo ealr lase, douuedeoa way, arese utud wede oodosmeosaple at row-yubt awadyl, pelause tu ros juolv uodedsaaodoob tu are mdoolomles tu msylrtrosatdy aod tu ros owabooaaoje mdtpoobs ooat oew adeas. oa was ltwutdaoob at votw araa ou aoyaroob rammeoed at seldto rowselu peutde are waarewaaols tu are uoeld ltuld pe ltwmleaely wtdved tua-aod rtw sltwly oa mdtleeded, aod rtw wtuoaaootus are tpsaalles--arede wtuld aa leasa dewaoo toe bttd wood araa wtuld ltoaooue are deseadlr\n"
     ]
    }
   ],
   "source": []
  },
  {
   "cell_type": "code",
   "execution_count": 2,
   "metadata": {},
   "outputs": [
    {
     "name": "stdout",
     "output_type": "stream",
     "text": [
      "\n",
      "Deciphered Cipher-2:\n",
      "uhdun mas perb rhys asd perb beywdhar, asd sad uees ase mnsder nm ase sshre mnr shjab bears, eper shsye shs remarvaude dhsabbearasye asd wsejbeyaed reawrs. ase rhyses se sad urnwmsa uayv mrnm shs arapeds sad snm ueynme a dnyad demesd, asd ha mas bnbwdardb uedheped, msaaeper ase ndd mndv mhmsa sab, asaa ase shdd aa uam esd mas mwdd nm awsseds sawmmed mhas areaswre. asd hm asaa mas sna esnwms mnr mame, asere mas adsn shs brndnsmed phmnwr an marped aa. ahme mnre ns, uwa ha seemed an sape dhaade emmeya ns mr. uammhss. aa shseab se mas mwys ase same as aa mhmab. aa shseab-shse aseb uemas an yadd shm medd-breserped; uwa wsysasmed mnwdd sape uees searer ase marv. asere mere snme asaa ssnnv asehr seads asd asnwmsa ashs mas ann mwys nm a mnnd ashsm; ha seemed wsmahr asaa HMD-478: Xmmvayehmxam ma Haspemdv Mdhevxmb Suj Suj-2 asbnse ssnwdd bnssess (abbaresadb) berbeawad bnwas as medd as (rebwaeddb) hsejsawsahude meadas. ha mhdd sape an ue bahd mnr, aseb sahd. ha hss'a saawrad, asd arnwude mhdd ynme nm ha! uwa sn mar arnwude sad sna ynme; asd as mr. uammhss mas mesernws mhas shs mnseb, mnsa benbde mere mhddhsm an mnrmhpe shm shs nddhahes asd shs mnnd mnrawse. se remahsed ns phshahsm aerms mhas shs redaahpes (ejyeba, nm ynwrse, ase sayvphdde-uammhsses), asd se sad masb depnaed admhrers amnsm ase snuuhas nm bnnr asd wshmbnraasa mamhdhes. uwa se sad sn ydnse mrhesds, wsahd snme nm shs bnwsmer ynwshss uemas an mrnm wb. ase eddesa nm asese, asd uhdun's mapnwrhae, mas bnwsm mrndn uammhss. mses uhdun mas shseab-shse se adnbaed mrndn as shs sehr, asd urnwmsa shm an dhpe aa uam esd; asd ase snbes nm ase sayvphdde-uammhsses mere mhsaddb dassed. uhdun asd mrndn sabbesed an sape ase same uhrasdab, sebaemuer 22sd. bnw sad ueaaer ynme asd dhpe sere, mrndn mb dad, sahd uhdun nse dab; asd ases me yas yedeuraae nwr uhrasdab-barahes ynmmnraaudb anmeaser. aa asaa ahme mrndn mas sahdd hs shs ameess, as ase snuuhas yadded ase hrresbnsshude amesahes ueamees yshddsnnd asd ynmhsm nm ame aa ashrab-asree\n"
     ]
    }
   ],
   "source": [
    "# Cipher-2 text\n",
    "cipher_2 = \"aceah toz puvg vcdl omj puvg yudqecov, omj loj auum klu thmjuv hs klu zlcvu shv zcbkg guovz, upuv zcmdu lcz vuwovroaeu jczoyyuovomdu omj qmubyudkuj vukqvm. klu vcdluz lu loj avhqnlk aodr svhw lcz kvopuez loj mht audhwu o ehdoe eunumj, omj ck toz yhyqeoveg auecupuj, tlokupuv klu hej sher wcnlk zog, klok klu lcee ok aon umj toz sqee hs kqmmuez zkqssuj tckl kvuozqvu. omj cs klok toz mhk umhqnl shv sowu, kluvu toz oezh lcz yvhehmnuj pcnhqv kh wovpue ok. kcwu thvu hm, aqk ck zuuwuj kh lopu eckkeu ussudk hm wv. aonncmz. ok mcmukg lu toz wqdl klu zowu oz ok scskg. ok mcmukg-mcmu klug aunom kh doee lcw tuee-yvuzuvpuj; aqk qmdlomnuj thqej lopu auum muovuv klu wovr. kluvu tuvu zhwu klok zlhhr klucv luojz omj klhqnlk klcz toz khh wqdl hs o nhhj klcmn; ck zuuwuj qmsocv klok CSE-478: Introduction to Computer Security Lab Lab-2 omghmu zlhqej yhzzuzz (oyyovumkeg) yuvyukqoe ghqkl oz tuee oz (vuyqkujeg) cmubloqzkcaeu tuoekl. ck tcee lopu kh au yocj shv, klug zocj. ck czm'k mokqvoe, omj kvhqaeu tcee dhwu hs ck! aqk zh sov kvhqaeu loj mhk dhwu; omj oz wv. aonncmz toz numuvhqz tckl lcz whmug, whzk yuhyeu tuvu tceecmn kh shvncpu lcw lcz hjjckcuz omj lcz nhhj shvkqmu. lu vuwocmuj hm pczckcmn kuvwz tckl lcz vueokcpuz (ubduyk, hs dhqvzu, klu zodrpceeu-aonncmzuz), omj lu loj womg juphkuj ojwcvuvz owhmn klu lhaackz hs yhhv omj qmcwyhvkomk sowcecuz. aqk lu loj mh dehzu svcumjz, qmkce zhwu hs lcz ghqmnuv dhqzcmz aunom kh nvht qy. klu uejuzk hs kluzu, omj aceah'z sophqvcku, toz ghqmn svhjh aonncmz. tlum aceah toz mcmukg-mcmu lu ojhykuj svhjh oz lcz lucv, omj avhqnlk lcw kh ecpu ok aon umj; omj klu lhyuz hs klu zodrpceeu-aonncmzuz tuvu scmoeeg jozluj. aceah omj svhjh loyyumuj kh lopu klu zowu acvkljog, zuykuwauv 22mj. ghq loj aukkuv dhwu omj ecpu luvu, svhjh wg eoj, zocj aceah hmu jog; omj klum tu dom dueuavoku hqv acvkljog-yovkcuz dhwshvkoaeg khnukluv. ok klok kcwu svhjh toz zkcee cm lcz ktuumz, oz klu lhaackz doeeuj klu cvvuzyhmzcaeu ktumkcuz auktuum dlcejlhhj omj dhwcmn hs onu ok klcvkg-klvuu\"\n",
    "\n",
    "# Decipher Cipher-2\n",
    "deciphered_cipher_2 = frequency_analysis(cipher_2)\n",
    "print(\"\\nDeciphered Cipher-2:\")\n",
    "print(deciphered_cipher_2)\n"
   ]
  },
  {
   "cell_type": "code",
   "execution_count": 4,
   "metadata": {},
   "outputs": [
    {
     "name": "stdout",
     "output_type": "stream",
     "text": [
      "Deciphered Cipher-1:\n",
      "nh o foranuwlor ohd, nh eous uoie, dnmmereha goy, aseie mtwr gere nhdnifehiople at snc-ywbt ocoryl, peuowie tm sni vwnuk whderiaohdnhb tm ase frnhunflei tm fiyustsniatry ohd tm sni ncobnhoanje frtpnhbi nhat heg oreoi. na goi utcmtranhb at khtg asoa nm ohyasnhb soffehed at ieldth sncielm pemtre ase coasecoanui tm ase mneld utwld pe utcfleaely gtrked twa-ohd stg iltgly na frtueeded, ohd stg ctwhaonhtwi ase tpiaoulei--asere gtwld oa leoia reconh the bttd cnhd asoa gtwld uthanhwe ase reieorus\n"
     ]
    }
   ],
   "source": [
    "def frequency_analysis(ciphertext, english_frequencies):\n",
    "    # Count frequency of each letter in the ciphertext\n",
    "    letter_count = {}\n",
    "    for letter in ciphertext:\n",
    "        if letter.isalpha():\n",
    "            letter_count[letter] = letter_count.get(letter, 0) + 1\n",
    "\n",
    "    # Sort by frequency (most frequent first)\n",
    "    sorted_letters = sorted(letter_count.items(), key=lambda x: x[1], reverse=True)\n",
    "\n",
    "    # Create a mapping of ciphertext letters to English letters\n",
    "    mapping = {}\n",
    "    for cipher_letter, _ in sorted_letters:\n",
    "        english_letter = max(english_frequencies.keys(), key=lambda x: english_frequencies[x])\n",
    "        mapping[cipher_letter] = english_letter\n",
    "        del english_frequencies[english_letter]  # Remove used letter\n",
    "\n",
    "    # Decipher the text\n",
    "    deciphered_text = ''.join(mapping.get(letter, letter) for letter in ciphertext)\n",
    "\n",
    "    return deciphered_text\n",
    "\n",
    "# English letter frequencies\n",
    "english_frequencies = {\n",
    "    'a': 0.0805, 'b': 0.0167, 'c': 0.0223, 'd': 0.0510,\n",
    "    'e': 0.1222, 'f': 0.0214, 'g': 0.0230, 'h': 0.0662,\n",
    "    'i': 0.0628, 'j': 0.0019, 'k': 0.0095, 'l': 0.0408,\n",
    "    'm': 0.0233, 'n': 0.0695, 'o': 0.0763, 'p': 0.0166,\n",
    "    'q': 0.0006, 'r': 0.0529, 's': 0.0602, 't': 0.0967,\n",
    "    'u': 0.0292, 'v': 0.0082, 'w': 0.0260, 'x': 0.0011,\n",
    "    'y': 0.0204, 'z': 0.0006\n",
    "}\n",
    "\n",
    "# Cipher-1 text\n",
    "cipher_1 = \"af p xpkcaqvnpk pfg, af ipqe qpri, gauuikifc tpw, ceiri udvk tiki afgarxifrphni cd eao-wvmd popkwn, hiqpvri du ear jvaql vfgikrcpfgafm du cei xkafqaxnir du xrwqedearcdkw pfg du ear aopmafpcasi xkdhafmr afcd fit pkipr. ac tpr qdoudkcafm cd lfdt cepc au pfwceafm epxxifig cd ringdf eaorinu hiudki cei opceiopcaqr du cei uaing qdvng hi qdoxnicinw tdklig dvc-pfg edt rndtnw ac xkdqiigig, pfg edt odvfcpafdvr cei dhrcpqnir--ceiki tdvng pc niprc kiopaf dfi mddg oafg cepc tdvng qdfcafvi cei kiripkqe\"\n",
    "\n",
    "\n",
    "IXTOHNDBEQRKGLMACSVWFUYPJZ\n",
    "ABCDEFGHIJKLMNOPQRSTUVWXYZ\n",
    "\n",
    "\n",
    "# Decipher Cipher-1 and Cipher-2\n",
    "deciphered_cipher_1 = frequency_analysis(cipher_1, english_frequencies.copy())\n",
    "\n",
    "# Print Deciphered Texts\n",
    "print(\"Deciphered Cipher-1:\")\n",
    "print(deciphered_cipher_1)\n"
   ]
  },
  {
   "cell_type": "code",
   "execution_count": null,
   "metadata": {},
   "outputs": [],
   "source": []
  },
  {
   "cell_type": "code",
   "execution_count": 1,
   "metadata": {},
   "outputs": [
    {
     "name": "stdout",
     "output_type": "stream",
     "text": [
      "{'i': 11.330049261083744, 'd': 8.866995073891626, 'c': 8.12807881773399, 'p': 7.8817733990147785, 'a': 7.635467980295567, 'f': 7.389162561576355, 'r': 5.665024630541872, 'e': 5.41871921182266, 'k': 4.679802955665025, 'g': 4.679802955665025, 'n': 3.9408866995073892, 'q': 3.6945812807881775, 'v': 3.201970443349754, 'u': 3.201970443349754, 't': 2.70935960591133, 'o': 2.70935960591133, 'x': 2.4630541871921183, 'w': 1.9704433497536946, 'm': 1.7241379310344827, 'h': 1.477832512315271, 'l': 0.7389162561576355, 'j': 0.24630541871921183, 's': 0.24630541871921183}\n"
     ]
    }
   ],
   "source": [
    "# Python code\n",
    "from collections import Counter\n",
    "\n",
    "# Cipher text\n",
    "cipher_text = 'af p xpkcaqvnpk pfg, af ipqe qpri, gauuikifc tpw, ceiri udvk tiki afgarxifrphni cd eao-wvmd popkwn, hiqpvri du ear jvaql vfgikrcpfgafm du cei xkafqaxnir du xrwqedearcdkw pfg du ear aopmafpcasi xkdhafmr afcd fit pkipr. ac tpr qdoudkcafm cd lfdt cepc au pfwceafm epxxifig cd ringdf eaorinu hiudki cei opceiopcaqr du cei uaing qdvng hi qdoxnicinw tdklig dvc-pfg edt rndtnw ac xkdqiigig, pfg edt odvfcpafdvr cei dhrcpqnir--ceiki tdvng pc niprc kiopaf dfi mddg oafg cepc tdvng qdfcafvi cei kiripkqe'\n",
    "\n",
    "# Remove spaces and non-alphabetic characters\n",
    "cipher_text = ''.join(filter(str.isalpha, cipher_text))\n",
    "\n",
    "# Count frequency of each character in the cipher text\n",
    "cipher_freq = Counter(cipher_text)\n",
    "\n",
    "# Calculate total number of characters\n",
    "total_chars = sum(cipher_freq.values())\n",
    "\n",
    "# Calculate frequency percentage for each character and sort by frequency\n",
    "cipher_freq_percent = {k: (v / total_chars) * 100 for k, v in sorted(cipher_freq.items(), key=lambda item: item[1], reverse=True)}\n",
    "\n",
    "print(cipher_freq_percent)"
   ]
  },
  {
   "cell_type": "code",
   "execution_count": 6,
   "metadata": {},
   "outputs": [
    {
     "name": "stdout",
     "output_type": "stream",
     "text": [
      "{'q': 11.75, 'a': 9.25, 'p': 8.75, 'y': 8.25, 'x': 7.75, 'o': 7.249999999999999, 'f': 6.25, 'c': 6.25, 'g': 5.0, 'k': 4.5, 'm': 4.0, 's': 3.5000000000000004, 'l': 3.5000000000000004, 'j': 3.0, 'r': 2.75, 'e': 2.25, 't': 1.7500000000000002, 'i': 1.25, 'w': 1.0, 'v': 1.0, 'z': 0.75, 'b': 0.25}\n",
      "{'e': 12.22, 't': 9.67, 'a': 8.05, 'o': 7.63, 'n': 6.95, 'h': 6.62, 'i': 6.28, 's': 6.02, 'r': 5.29, 'd': 5.1, 'l': 4.08, 'u': 2.92, 'w': 2.6, 'm': 2.33, 'g': 2.3, 'c': 2.23, 'f': 2.14, 'y': 2.04, 'b': 1.67, 'p': 1.66, 'k': 0.95, 'v': 0.82, 'j': 0.19, 'x': 0.11, 'q': 0.06, 'z': 0.06}\n",
      "{'q': 'e', 'a': 't', 'p': 'a', 'y': 'o', 'x': 'n', 'o': 'h', 'f': 'i', 'c': 's', 'g': 'r', 'k': 'd', 'm': 'l', 's': 'u', 'l': 'w', 'j': 'm', 'r': 'g', 'e': 'c', 't': 'f', 'i': 'y', 'w': 'b', 'v': 'p', 'z': 'k', 'b': 'v'}\n"
     ]
    }
   ],
   "source": [
    "# Python code\n",
    "from collections import Counter\n",
    "\n",
    "# Cipher text\n",
    "cipher_text = \"tqmrajq ya gowopxyoap, fxog vcasqffac ycqmxtpql, tka kxg fqxyqg kqcfqms op x topiqg xcjrkxoc op scapy as ykq socq. jl pxjq of vcasqffac ycqmxtpql. lae jxl pay kxwq fqqp jq zqsacq. o sopg ykxy gqfrqpgopi yaa asyqp opya ykq kefymq xpg zefymq as ykq jxop frkaam rma gf jl oppqc qlq. pazagl fxog xplykopi ya ykof qbycxacgopxcl vcapaeprqjqpy. vcasqffac ycqmxtpql gqmorxyqml cqxccxpiqg kqc fkxtm xpg rapyopeqg, fa lae kxwq rkafqp ya fyegl gowopxyoap, ykq jafy gossoremy as xmm jxiorxm xcyf. o jefy\"\n",
    "\n",
    "# Remove spaces and non-alphabetic characters\n",
    "cipher_text = ''.join(filter(str.isalpha, cipher_text))\n",
    "\n",
    "# Count frequency of each character in the cipher text\n",
    "cipher_freq = Counter(cipher_text)\n",
    "\n",
    "# Calculate total number of characters\n",
    "total_chars = sum(cipher_freq.values())\n",
    "\n",
    "# Calculate frequency percentage for each character and sort by frequency\n",
    "cipher_freq_percent = {k: (v / total_chars) * 100 for k, v in sorted(cipher_freq.items(), key=lambda item: item[1], reverse=True)}\n",
    "\n",
    "print(cipher_freq_percent)\n",
    "\n",
    "\n",
    "# English frequency distribution\n",
    "english_freq = {\n",
    "    'a': 8.05, 'b': 1.67, 'c': 2.23, 'd': 5.10, 'e': 12.22, 'f': 2.14, 'g': 2.30, 'h': 6.62, \n",
    "    'i': 6.28, 'j': 0.19, 'k': 0.95, 'l': 4.08, 'm': 2.33, 'n': 6.95, 'o': 7.63, 'p': 1.66, \n",
    "    'q': 0.06, 'r': 5.29, 's': 6.02, 't': 9.67, 'u': 2.92, 'v': 0.82, 'w': 2.60, 'x': 0.11, \n",
    "    'y': 2.04, 'z': 0.06\n",
    "}\n",
    "\n",
    "english_freq_sorted = {k: v for k, v in sorted(english_freq.items(), key=lambda item: item[1], reverse=True)}\n",
    "\n",
    "print(english_freq_sorted)\n",
    "\n",
    "\n",
    "# Create a mapping from cipher characters to English characters based on frequency\n",
    "cipher_to_english = {list(cipher_freq_percent.keys())[i]: list(english_freq_sorted.keys())[i] for i in range(len(cipher_freq_percent))}\n",
    "\n",
    "print(cipher_to_english)"
   ]
  },
  {
   "cell_type": "code",
   "execution_count": 4,
   "metadata": {},
   "outputs": [
    {
     "name": "stdout",
     "output_type": "stream",
     "text": [
      "nhoforanuwlorohdnheousuoiednmmerehagoyaseiemtwrgerenhdnifehiopleatsncywbtocorylpeuowietmsnivwnukwhderiaohdnhbtmasefrnhunfleitmfiyustsniatryohdtmsnincobnhoanjefrtpnhbinhathegoreoinagoiutcmtranhbatkhtgasoanmohyasnhbsoffehedatieldthsncielmpemtreasecoasecoanuitmasemneldutwldpeutcfleaelygtrkedtwaohdstgiltglynafrtueededohdstgctwhaonhtwiasetpiaouleiaseregtwldoaleoiareconhthebttdcnhdasoagtwlduthanhweasereieorus\n"
     ]
    }
   ],
   "source": [
    "\n",
    "# Python code\n",
    "# Cipher text\n",
    "cipher_text = 'af p xpkcaqvnpk pfg, af ipqe qpri, gauuikifc tpw, ceiri udvk tiki afgarxifrphni cd eao-wvmd popkwn, hiqpvri du ear jvaql vfgikrcpfgafm du cei xkafqaxnir du xrwqedearcdkw pfg du ear aopmafpcasi xkdhafmr afcd fit pkipr. ac tpr qdoudkcafm cd lfdt cepc au pfwceafm epxxifig cd ringdf eaorinu hiudki cei opceiopcaqr du cei uaing qdvng hi qdoxnicinw tdklig dvc-pfg edt rndtnw ac xkdqiigig, pfg edt odvfcpafdvr cei dhrcpqnir--ceiki tdvng pc niprc kiopaf dfi mddg oafg cepc tdvng qdfcafvi cei kiripkqe'\n",
    "\n",
    "# Remove spaces and non-alphabetic characters\n",
    "cipher_text = ''.join(filter(str.isalpha, cipher_text))\n",
    "\n",
    "# Count frequency of each character in the cipher text\n",
    "cipher_freq = Counter(cipher_text)\n",
    "\n",
    "# Calculate total number of characters\n",
    "total_chars = sum(cipher_freq.values())\n",
    "\n",
    "# Calculate frequency percentage for each character and sort by frequency\n",
    "cipher_freq_percent = {k: (v / total_chars) * 100 for k, v in sorted(cipher_freq.items(), key=lambda item: item[1], reverse=True)}\n",
    "\n",
    "# English frequency distribution\n",
    "english_freq = {\n",
    "    'a': 8.05, 'b': 1.67, 'c': 2.23, 'd': 5.10, 'e': 12.22, 'f': 2.14, 'g': 2.30, 'h': 6.62, \n",
    "    'i': 6.28, 'j': 0.19, 'k': 0.95, 'l': 4.08, 'm': 2.33, 'n': 6.95, 'o': 7.63, 'p': 1.66, \n",
    "    'q': 0.06, 'r': 5.29, 's': 6.02, 't': 9.67, 'u': 2.92, 'v': 0.82, 'w': 2.60, 'x': 0.11, \n",
    "    'y': 2.04, 'z': 0.06\n",
    "}\n",
    "\n",
    "# Sort English frequency distribution by percentage\n",
    "english_freq_sorted = {k: v for k, v in sorted(english_freq.items(), key=lambda item: item[1], reverse=True)}\n",
    "\n",
    "# Create a mapping from cipher characters to English characters based on frequency\n",
    "cipher_to_english = {list(cipher_freq_percent.keys())[i]: list(english_freq_sorted.keys())[i] for i in range(len(cipher_freq_percent))}\n",
    "\n",
    "# Decrypt the cipher text using the mapping\n",
    "decrypted_text = ''.join(cipher_to_english.get(c, c) for c in cipher_text)\n",
    "\n",
    "print(decrypted_text)"
   ]
  },
  {
   "cell_type": "code",
   "execution_count": 10,
   "metadata": {},
   "outputs": [
    {
     "name": "stdout",
     "output_type": "stream",
     "text": [
      "char_substitution('a', 'i');\n",
      "char_substitution('b', 'x');\n",
      "char_substitution('c', 't');\n",
      "char_substitution('d', 'o');\n",
      "char_substitution('e', 'h');\n",
      "char_substitution('f', 'n');\n",
      "char_substitution('g', 'd');\n",
      "char_substitution('h', 'b');\n",
      "char_substitution('i', 'e');\n",
      "char_substitution('j', 'q');\n",
      "char_substitution('k', 'r');\n",
      "char_substitution('l', 'k');\n",
      "char_substitution('m', 'g');\n",
      "char_substitution('n', 'l');\n",
      "char_substitution('o', 'm');\n",
      "char_substitution('p', 'a');\n",
      "char_substitution('q', 'c');\n",
      "char_substitution('r', 's');\n",
      "char_substitution('s', 'v');\n",
      "char_substitution('t', 'w');\n",
      "char_substitution('u', 'f');\n",
      "char_substitution('v', 'u');\n",
      "char_substitution('w', 'y');\n",
      "char_substitution('x', 'y');\n",
      "char_substitution('y', 'p');\n",
      "char_substitution('z', 'j');\n"
     ]
    }
   ],
   "source": [
    "# Python code\n",
    "# Mapping string\n",
    "mapping_string = 'ixtohndbeqrkglmacsvwfuyypjz'\n",
    "\n",
    "# English alphabet\n",
    "english_alphabet = 'abcdefghijklmnopqrstuvwxyz'\n",
    "\n",
    "# Create a mapping from English characters to mapping string characters\n",
    "english_to_mapping = {english_alphabet[i]: mapping_string[i] for i in range(len(english_alphabet))}\n",
    "\n",
    "# Print the mapping in code format\n",
    "for k, v in english_to_mapping.items():\n",
    "    print(f\"char_substitution('{k}', '{v}');\")"
   ]
  },
  {
   "cell_type": "code",
   "execution_count": 9,
   "metadata": {},
   "outputs": [
    {
     "name": "stdout",
     "output_type": "stream",
     "text": [
      "HLW MF\n",
      "vle ,i\n",
      "hlwymf\n"
     ]
    }
   ],
   "source": [
    "alphabet = 'abcdefghijklmnopqrstuvwxyz'\n",
    "key = 'nu.t!iyvxqfl,bcjrodhkaew spzgm'\n",
    "plaintext = \"HLW MF\"\n",
    "\n",
    "\n",
    "def makeKey(alphabet):\n",
    "   alphabet = list(alphabet)\n",
    "   random.shuffle(alphabet)\n",
    "   return ''.join(alphabet)\n",
    "\n",
    "def encrypt(plaintext, key, alphabet):\n",
    "    keyMap = dict(zip(alphabet, key))\n",
    "    return ''.join(keyMap.get(c.lower(), c) for c in plaintext)\n",
    "\n",
    "def decrypt(cipher, key, alphabet):\n",
    "    keyMap = dict(zip(key, alphabet))\n",
    "    return ''.join(keyMap.get(c.lower(), c) for c in cipher)\n",
    "\n",
    "cipher = encrypt(plaintext, key, alphabet)\n",
    "\n",
    "print(plaintext)\n",
    "print(cipher)\n",
    "print(decrypt(cipher, key, alphabet))"
   ]
  },
  {
   "cell_type": "code",
   "execution_count": 14,
   "metadata": {},
   "outputs": [
    {
     "name": "stdout",
     "output_type": "stream",
     "text": [
      "{'q': 11.72069825436409, 'a': 9.226932668329177, 'p': 8.728179551122196, 'y': 8.229426433915211, 'x': 7.73067331670823, 'o': 7.231920199501247, 'f': 6.234413965087282, 'c': 6.234413965087282, 'g': 4.987531172069826, 'k': 4.488778054862843, 'm': 3.99002493765586, 's': 3.4912718204488775, 'l': 3.4912718204488775, 'j': 2.9925187032418954, 'r': 2.7431421446384037, 'e': 2.493765586034913, 't': 1.7456359102244388, 'i': 1.2468827930174564, 'w': 0.997506234413965, 'v': 0.997506234413965, 'z': 0.7481296758104738, 'b': 0.24937655860349126}\n",
      "{'q': 'e', 'a': 't', 'p': 'a', 'y': 'o', 'x': 'n', 'o': 'h', 'f': 'i', 'c': 's', 'g': 'r', 'k': 'd', 'm': 'l', 's': 'u', 'l': 'w', 'j': 'm', 'r': 'g', 'e': 'c', 't': 'f', 'i': 'y', 'w': 'b', 'v': 'p', 'z': 'k', 'b': 'v'}\n",
      "felgtmeotrhbhanohtainhrpstueiitsoselnfaewfdtdnrienoerdesieluhanfhayernsmgdnhshaustaotuodeuhsemwanmehipstueiitsoselnfaewwtcmnwatodnbeieeamekeutsehuharodnoreigearhayotttuoeahaotodedciolenarkcioletuodemnhaigdttlgltcrimwhaaeseweatktrwinhrnawodhayotodhievosntsrhanswpstatcagemeaopstueiitsoselnfaewrelhgnoelwsenssnayerdesidnflnargtaohaceritwtcdnbegdtieaotiocrwrhbhanohtaodemtiorhuuhgclotunllmnyhgnlnsoihmcio\n"
     ]
    }
   ],
   "source": [
    "# Python code\n",
    "from collections import Counter\n",
    "\n",
    "# Cipher text\n",
    "cipher_text = \"tqmrajq ya gowopxyoap, fxog vcasqffac ycqmxtpql, tka kxg fqxyqg kqcfqms op x topiqg xcjrkxoc op scapy as ykq socq. jl pxjq of vcasqffac ycqmxtpql. lae jxl pay kxwq fqqp jq zqsacq. o sopg ykxy gqfrqpgopi yaa asyqp opya ykq kefymq xpg zefymq as ykq jxop frkaam rmaegf jl oppqc qlq. pazagl fxog xplykopi ya ykof qbycxacgopxcl vcapaeprqjqpy. vcasqffac ycqmxtpql gqmorxyqml cqxccxpiqg kqc fkxtm xpg rapyopeqg, fa lae kxwq rkafqp ya fyegl gowopxyoap, ykq jafy gossoremy as xmm jxiorxm xcyf. o jefy\"\n",
    "# replace with your cipher text\n",
    "\n",
    "# Remove spaces and non-alphabetic characters\n",
    "cipher_text = ''.join(filter(str.isalpha, cipher_text))\n",
    "\n",
    "\n",
    "# Count frequency of each character in the cipher text\n",
    "cipher_freq = Counter(cipher_text)\n",
    "\n",
    "# Calculate total number of characters\n",
    "total_chars = sum(cipher_freq.values())\n",
    "\n",
    "# Calculate frequency percentage for each character and sort by frequency\n",
    "cipher_freq_percent = {k: (v / total_chars) * 100 for k, v in sorted(cipher_freq.items(), key=lambda item: item[1], reverse=True)}\n",
    "\n",
    "print(cipher_freq_percent)\n",
    "\n",
    "# English frequency distribution\n",
    "english_freq = {\n",
    "    'a': 8.05, 'b': 1.67, 'c': 2.23, 'd': 5.10, 'e': 12.22, 'f': 2.14, 'g': 2.30, 'h': 6.62, \n",
    "    'i': 6.28, 'j': 0.19, 'k': 0.95, 'l': 4.08, 'm': 2.33, 'n': 6.95, 'o': 7.63, 'p': 1.66, \n",
    "    'q': 0.06, 'r': 5.29, 's': 6.02, 't': 9.67, 'u': 2.92, 'v': 0.82, 'w': 2.60, 'x': 0.11, \n",
    "    'y': 2.04, 'z': 0.06\n",
    "}\n",
    "\n",
    "# Sort English frequency distribution by percentage\n",
    "english_freq_sorted = {k: v for k, v in sorted(english_freq.items(), key=lambda item: item[1], reverse=True)}\n",
    "\n",
    "# Create a mapping from cipher characters to English characters based on frequency\n",
    "cipher_to_english = {list(cipher_freq_percent.keys())[i]: list(english_freq_sorted.keys())[i] for i in range(len(cipher_freq_percent))}\n",
    "\n",
    "\n",
    "print(cipher_to_english)\n",
    "\n",
    "# Decrypt the cipher text using the mapping\n",
    "decrypted_text = ''.join(cipher_to_english.get(c, c) for c in cipher_text)\n",
    "\n",
    "print(decrypted_text)"
   ]
  },
  {
   "cell_type": "code",
   "execution_count": null,
   "metadata": {},
   "outputs": [],
   "source": []
  }
 ],
 "metadata": {
  "kernelspec": {
   "display_name": "Python 3",
   "language": "python",
   "name": "python3"
  },
  "language_info": {
   "codemirror_mode": {
    "name": "ipython",
    "version": 3
   },
   "file_extension": ".py",
   "mimetype": "text/x-python",
   "name": "python",
   "nbconvert_exporter": "python",
   "pygments_lexer": "ipython3",
   "version": "3.12.3"
  }
 },
 "nbformat": 4,
 "nbformat_minor": 2
}
