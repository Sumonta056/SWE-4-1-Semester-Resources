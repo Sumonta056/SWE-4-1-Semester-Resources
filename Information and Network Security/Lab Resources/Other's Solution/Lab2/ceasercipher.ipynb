{
 "cells": [
  {
   "cell_type": "code",
   "execution_count": 1,
   "metadata": {},
   "outputs": [
    {
     "name": "stdout",
     "output_type": "stream",
     "text": [
      "espypievtwwpclaahtwwnzxmtypnwzfoxlnstypwplcytyrtzelyomwznvnslty\n"
     ]
    }
   ],
   "source": [
    "letters = \"abcdefghijklmnopqrstuvwxyz\"\n",
    "\n",
    "def decrypt(ciphertext,key):\n",
    "  plaintext = \"\"\n",
    "  for letter in ciphertext:\n",
    "    letter = letter.lower()\n",
    "    if letter not in letters:\n",
    "      plaintext += letter\n",
    "    else:\n",
    "      index = letters.find(letter)\n",
    "      new_index = index - key\n",
    "      if new_index <0:\n",
    "        new_index += 26\n",
    "      plaintext += letters[new_index]\n",
    "  return plaintext\n",
    "\n",
    "ciphertext = \"ftqzqjfwuxxqdmbbiuxxoaynuzqoxagpymotuzqxqmdzuzsuafmzpnxaowotmuz\"\n",
    "key = 1\n",
    "print(decrypt(ciphertext,key))"
   ]
  },
  {
   "cell_type": "code",
   "execution_count": 2,
   "metadata": {},
   "outputs": [
    {
     "name": "stdout",
     "output_type": "stream",
     "text": [
      " key: 1 decrypted_text: espypievtwwpclaahtwwnzxmtypnwzfoxlnstypwplcytyrtzelyomwznvnslty\n",
      "\n",
      " key: 2 decrypted_text: droxohdusvvobkzzgsvvmywlsxomvyenwkmrsxovokbxsxqsydkxnlvymumrksx\n",
      "\n",
      " key: 3 decrypted_text: cqnwngctruunajyyfruulxvkrwnluxdmvjlqrwnunjawrwprxcjwmkuxltlqjrw\n",
      "\n",
      " key: 4 decrypted_text: bpmvmfbsqttmzixxeqttkwujqvmktwcluikpqvmtmizvqvoqwbivljtwkskpiqv\n",
      "\n",
      " key: 5 decrypted_text: aolulearpsslyhwwdpssjvtipuljsvbkthjopulslhyupunpvahukisvjrjohpu\n",
      "\n",
      " key: 6 decrypted_text: znktkdzqorrkxgvvcorriushotkiruajsginotkrkgxtotmouzgtjhruiqingot\n",
      "\n",
      " key: 7 decrypted_text: ymjsjcypnqqjwfuubnqqhtrgnsjhqtzirfhmnsjqjfwsnslntyfsigqthphmfns\n",
      "\n",
      " key: 8 decrypted_text: xliribxomppivettamppgsqfmrigpsyhqeglmripievrmrkmsxerhfpsgoglemr\n",
      "\n",
      " key: 9 decrypted_text: wkhqhawnloohudsszloofrpelqhforxgpdfklqhohduqlqjlrwdqgeorfnfkdlq\n",
      "\n",
      " key: 10 decrypted_text: vjgpgzvmknngtcrryknneqodkpgenqwfocejkpgngctpkpikqvcpfdnqemejckp\n",
      "\n",
      " key: 11 decrypted_text: uifofyuljmmfsbqqxjmmdpncjofdmpvenbdijofmfbsojohjpuboecmpdldibjo\n",
      "\n",
      " key: 12 decrypted_text: thenextkillerappwillcombinecloudmachinelearningiotandblockchain\n",
      "\n",
      " key: 13 decrypted_text: sgdmdwsjhkkdqzoovhkkbnlahmdbkntclzbghmdkdzqmhmfhnszmcaknbjbgzhm\n",
      "\n",
      " key: 14 decrypted_text: rfclcvrigjjcpynnugjjamkzglcajmsbkyafglcjcyplglegmrylbzjmaiafygl\n",
      "\n",
      " key: 15 decrypted_text: qebkbuqhfiiboxmmtfiizljyfkbzilrajxzefkbibxokfkdflqxkayilzhzexfk\n",
      "\n",
      " key: 16 decrypted_text: pdajatpgehhanwllsehhykixejayhkqziwydejahawnjejcekpwjzxhkygydwej\n",
      "\n",
      " key: 17 decrypted_text: oczizsofdggzmvkkrdggxjhwdizxgjpyhvxcdizgzvmidibdjoviywgjxfxcvdi\n",
      "\n",
      " key: 18 decrypted_text: nbyhyrnecffylujjqcffwigvchywfioxguwbchyfyulhchacinuhxvfiwewbuch\n",
      "\n",
      " key: 19 decrypted_text: maxgxqmdbeexktiipbeevhfubgxvehnwftvabgxextkgbgzbhmtgwuehvdvatbg\n",
      "\n",
      " key: 20 decrypted_text: lzwfwplcaddwjshhoaddugetafwudgmvesuzafwdwsjfafyaglsfvtdgucuzsaf\n",
      "\n",
      " key: 21 decrypted_text: kyvevokbzccvirggnzcctfdszevtcfludrtyzevcvriezexzfkreuscftbtyrze\n",
      "\n",
      " key: 22 decrypted_text: jxudunjaybbuhqffmybbsecrydusbektcqsxydubuqhdydwyejqdtrbesasxqyd\n",
      "\n",
      " key: 23 decrypted_text: iwtctmizxaatgpeelxaardbqxctradjsbprwxctatpgcxcvxdipcsqadrzrwpxc\n",
      "\n",
      " key: 24 decrypted_text: hvsbslhywzzsfoddkwzzqcapwbsqzciraoqvwbszsofbwbuwchobrpzcqyqvowb\n",
      "\n",
      " key: 25 decrypted_text: gurarkgxvyyrenccjvyypbzovarpybhqznpuvaryrneavatvbgnaqoybpxpunva\n",
      "\n"
     ]
    }
   ],
   "source": [
    "for k in range(1,26):\n",
    "  print(f\" key: {k} decrypted_text: {decrypt(ciphertext,k)}\")\n",
    "  print()"
   ]
  }
 ],
 "metadata": {
  "kernelspec": {
   "display_name": "Python 3",
   "language": "python",
   "name": "python3"
  },
  "language_info": {
   "codemirror_mode": {
    "name": "ipython",
    "version": 3
   },
   "file_extension": ".py",
   "mimetype": "text/x-python",
   "name": "python",
   "nbconvert_exporter": "python",
   "pygments_lexer": "ipython3",
   "version": "3.12.3"
  },
  "orig_nbformat": 4
 },
 "nbformat": 4,
 "nbformat_minor": 2
}
