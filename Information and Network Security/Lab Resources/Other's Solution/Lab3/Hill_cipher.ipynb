{
  "nbformat": 4,
  "nbformat_minor": 0,
  "metadata": {
    "colab": {
      "provenance": []
    },
    "kernelspec": {
      "name": "python3",
      "display_name": "Python 3"
    },
    "language_info": {
      "name": "python"
    }
  },
  "cells": [
    {
      "cell_type": "code",
      "execution_count": null,
      "metadata": {
        "id": "flF8qDBajEo8"
      },
      "outputs": [],
      "source": [
        "import numpy as np\n",
        "\n",
        "keyMatrix = np.array([[6, 24, 1], [13, 16, 10], [20, 17, 15]])\n",
        "plainSegment = 3\n",
        "\n",
        "def pad_plain_text(plain_text):\n",
        "    pad_size = len(plain_text) % plainSegment\n",
        "    if pad_size == 0:\n",
        "        return plain_text\n",
        "    pad_size = plainSegment - pad_size\n",
        "    return plain_text + 'x' * pad_size\n",
        "\n",
        "def encode_hill_cipher(plain_text):\n",
        "    cipher = \"\"\n",
        "\n",
        "    plain_text = pad_plain_text(plain_text)\n",
        "    print(\"Padded Plain Text -\", plain_text)\n",
        "    for i in range(0, len(plain_text), plainSegment):\n",
        "        segment = plain_text[i:i + plainSegment]\n",
        "        cipher_segment = \"\"\n",
        "        for i in range(plainSegment):\n",
        "            sum_val = 0\n",
        "            for j in range(plainSegment):\n",
        "                sum_val += (ord(segment[j]) - ord('a')) * keyMatrix[i][j]\n",
        "            cipher_segment += chr((sum_val % 26) + ord('a'))\n",
        "        cipher += cipher_segment\n",
        "    return cipher\n",
        "\n",
        "if __name__ == \"__main__\":\n",
        "    plain_text = \"paymoremoney\"\n",
        "    print(\"Plain Text -\", plain_text)\n",
        "    cipher_text = encode_hill_cipher(plain_text)\n",
        "    print(\"Cipher Text -\", cipher_text)\n"
      ]
    }
  ]
}