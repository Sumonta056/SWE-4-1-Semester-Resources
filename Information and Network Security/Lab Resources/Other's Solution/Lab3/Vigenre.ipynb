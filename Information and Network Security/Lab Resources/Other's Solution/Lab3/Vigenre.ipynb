{
 "cells": [
  {
   "cell_type": "code",
   "execution_count": null,
   "metadata": {},
   "outputs": [],
   "source": [
    "def vigenere_decrypt(ciphertext, key):\n",
    "    # Convert the key to uppercase and remove non-alphabetic characters\n",
    "    key = ''.join(filter(str.isalpha, key.upper()))\n",
    "    decrypted_text = \"\"\n",
    "    key_index = 0\n",
    "\n",
    "    for char in ciphertext:\n",
    "        if char.isalpha():\n",
    "            # Determine the shift value for the current character\n",
    "            shift = ord(key[key_index]) - ord('A')\n",
    "            if char.isupper():\n",
    "                decrypted_char = chr((ord(char) - shift - ord('A')) % 26 + ord('A'))\n",
    "            else:\n",
    "                decrypted_char = chr((ord(char) - shift - ord('a')) % 26 + ord('a'))\n",
    "            decrypted_text += decrypted_char\n",
    "            key_index = (key_index + 1) % len(key)\n",
    "        else:\n",
    "            # Non-alphabetic characters are kept as they are\n",
    "            decrypted_text += char\n",
    "\n",
    "    return decrypted_text\n",
    "\n",
    "# Example usage:\n",
    "#ciphertext = \"LXFOPVEFRNHR\"\n",
    "#key = \"LEMON\"\n",
    "decrypted_message = vigenere_decrypt(ciphertext, key)\n",
    "print(\"Decrypted message:\", decrypted_message)\n"
   ]
  },
  {
   "cell_type": "code",
   "execution_count": null,
   "metadata": {},
   "outputs": [],
   "source": [
    "ciphertext = \"qul zonuw arzbda ikbnrl qul gbjz, ufgaxo gv llzl, mena … ml pyxxgl t rapobezx cevf xozhihax kbaafan zlq pl kba gbpllpnyr. xys mena bp alxark tor aab yhpp bm gxgbkb. … [gotq vz,] meryx znu axil ubru t yvn uxan vorhmfbu pfgohrg aab ulem bm zlq, wklipwbq aab yhpp bm gxgbkb cyx-anax qul nkvcxofl. hre jhkpliq bm mfzl ubtpgp jpme gox zeltqvvg ls aab hubsrylb. goxormhor py qul exjz hc ahmrel vorhmbq aab hubsrylb, goxpr sttf tnpg otsr lqffaxa cyble ah qvtx; quhm ff aab yhpp bm gxgbkb jvniq ix lhalfql hc gpfb. jotq jl axil meru bp gvmxysr kbu-ielzbzns exjz, hrgzbar vy qvtx, zeltqvuz x hubsrylb. avp quhm arzvovwmfbu fftom pbbga fvfbjotq shffypto. ilkv zbve ypdb gox yviefphe zbuvbca hc tvw: kba ielzbzns, hrgzbar vy qvtx, xosx qb jkbnax  rapobezx\"\n",
    "key = \"xnht\"\n",
    "decrypted_message = vigenere_decrypt(ciphertext, key)\n",
    "print(\"Decrypted message:\", decrypted_message)\n"
   ]
  }
 ],
 "metadata": {
  "language_info": {
   "name": "python"
  },
  "orig_nbformat": 4
 },
 "nbformat": 4,
 "nbformat_minor": 2
}
